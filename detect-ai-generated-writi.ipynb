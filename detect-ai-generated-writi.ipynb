{
 "cells": [
  {
   "cell_type": "code",
   "execution_count": 1,
   "id": "5d0198a3",
   "metadata": {
    "_cell_guid": "b1076dfc-b9ad-4769-8c92-a6c4dae69d19",
    "_uuid": "8f2839f25d086af736a60e9eeb907d3b93b6e0e5",
    "execution": {
     "iopub.execute_input": "2023-12-07T18:42:41.229186Z",
     "iopub.status.busy": "2023-12-07T18:42:41.228822Z",
     "iopub.status.idle": "2023-12-07T18:42:56.570708Z",
     "shell.execute_reply": "2023-12-07T18:42:56.569564Z"
    },
    "papermill": {
     "duration": 15.355069,
     "end_time": "2023-12-07T18:42:56.573242",
     "exception": false,
     "start_time": "2023-12-07T18:42:41.218173",
     "status": "completed"
    },
    "tags": []
   },
   "outputs": [
    {
     "name": "stdout",
     "output_type": "stream",
     "text": [
      "/kaggle/input/llm-detect-ai-generated-text/sample_submission.csv\n",
      "/kaggle/input/llm-detect-ai-generated-text/train_prompts.csv\n",
      "/kaggle/input/llm-detect-ai-generated-text/test_essays.csv\n",
      "/kaggle/input/llm-detect-ai-generated-text/train_essays.csv\n"
     ]
    }
   ],
   "source": [
    "# This Python 3 environment comes with many helpful analytics libraries installed\n",
    "# It is defined by the kaggle/python Docker image: https://github.com/kaggle/docker-python\n",
    "# For example, here's several helpful packages to load\n",
    "\n",
    "import numpy as np # linear algebra\n",
    "import pandas as pd # data processing, CSV file I/O (e.g. pd.read_csv)\n",
    "\n",
    "import nltk # NLP and string preprocessing\n",
    "from nltk.tokenize import word_tokenize\n",
    "from nltk.corpus import stopwords\n",
    "from nltk.stem import PorterStemmer\n",
    "\n",
    "from sklearn.feature_extraction.text import TfidfVectorizer # NLP preprocessing\n",
    "from sklearn.model_selection import train_test_split # test train split\n",
    "from sklearn.metrics import accuracy_score\n",
    "\n",
    "from tensorflow.keras.models import Sequential # sequential neural network\n",
    "from tensorflow.keras.layers import Dense # dense layer for nn\n",
    "import tensorflow as tf\n",
    "\n",
    "# Input data files are available in the read-only \"../input/\" directory\n",
    "# For example, running this (by clicking run or pressing Shift+Enter) will list all files under the input directory\n",
    "\n",
    "import os\n",
    "for dirname, _, filenames in os.walk(\"/kaggle/input\"):\n",
    "    for filename in filenames:\n",
    "        print(os.path.join(dirname, filename))\n",
    "\n",
    "# You can write up to 20GB to the current directory (/kaggle/working/) that gets preserved as output when you create a version using \"Save & Run All\" \n",
    "# You can also write temporary files to /kaggle/temp/, but they won't be saved outside of the current session"
   ]
  },
  {
   "cell_type": "code",
   "execution_count": 2,
   "id": "7c5d058b",
   "metadata": {
    "execution": {
     "iopub.execute_input": "2023-12-07T18:42:56.592770Z",
     "iopub.status.busy": "2023-12-07T18:42:56.591336Z",
     "iopub.status.idle": "2023-12-07T18:42:56.697889Z",
     "shell.execute_reply": "2023-12-07T18:42:56.697000Z"
    },
    "papermill": {
     "duration": 0.118527,
     "end_time": "2023-12-07T18:42:56.700251",
     "exception": false,
     "start_time": "2023-12-07T18:42:56.581724",
     "status": "completed"
    },
    "tags": []
   },
   "outputs": [],
   "source": [
    "df_train = pd.read_csv(\"/kaggle/input/llm-detect-ai-generated-text/train_essays.csv\")\n",
    "df_test = pd.read_csv(\"/kaggle/input/llm-detect-ai-generated-text/test_essays.csv\")\n",
    "df_train_prompts = pd.read_csv(\"/kaggle/input/llm-detect-ai-generated-text/train_prompts.csv\")"
   ]
  },
  {
   "cell_type": "code",
   "execution_count": 3,
   "id": "a9d9d104",
   "metadata": {
    "execution": {
     "iopub.execute_input": "2023-12-07T18:42:56.718598Z",
     "iopub.status.busy": "2023-12-07T18:42:56.718202Z",
     "iopub.status.idle": "2023-12-07T18:42:56.736690Z",
     "shell.execute_reply": "2023-12-07T18:42:56.735829Z"
    },
    "papermill": {
     "duration": 0.030362,
     "end_time": "2023-12-07T18:42:56.738725",
     "exception": false,
     "start_time": "2023-12-07T18:42:56.708363",
     "status": "completed"
    },
    "tags": []
   },
   "outputs": [
    {
     "data": {
      "text/html": [
       "<div>\n",
       "<style scoped>\n",
       "    .dataframe tbody tr th:only-of-type {\n",
       "        vertical-align: middle;\n",
       "    }\n",
       "\n",
       "    .dataframe tbody tr th {\n",
       "        vertical-align: top;\n",
       "    }\n",
       "\n",
       "    .dataframe thead th {\n",
       "        text-align: right;\n",
       "    }\n",
       "</style>\n",
       "<table border=\"1\" class=\"dataframe\">\n",
       "  <thead>\n",
       "    <tr style=\"text-align: right;\">\n",
       "      <th></th>\n",
       "      <th>id</th>\n",
       "      <th>prompt_id</th>\n",
       "      <th>text</th>\n",
       "      <th>generated</th>\n",
       "    </tr>\n",
       "  </thead>\n",
       "  <tbody>\n",
       "    <tr>\n",
       "      <th>0</th>\n",
       "      <td>0059830c</td>\n",
       "      <td>0</td>\n",
       "      <td>Cars. Cars have been around since they became ...</td>\n",
       "      <td>0</td>\n",
       "    </tr>\n",
       "    <tr>\n",
       "      <th>1</th>\n",
       "      <td>005db917</td>\n",
       "      <td>0</td>\n",
       "      <td>Transportation is a large necessity in most co...</td>\n",
       "      <td>0</td>\n",
       "    </tr>\n",
       "    <tr>\n",
       "      <th>2</th>\n",
       "      <td>008f63e3</td>\n",
       "      <td>0</td>\n",
       "      <td>\"America's love affair with it's vehicles seem...</td>\n",
       "      <td>0</td>\n",
       "    </tr>\n",
       "    <tr>\n",
       "      <th>3</th>\n",
       "      <td>00940276</td>\n",
       "      <td>0</td>\n",
       "      <td>How often do you ride in a car? Do you drive a...</td>\n",
       "      <td>0</td>\n",
       "    </tr>\n",
       "    <tr>\n",
       "      <th>4</th>\n",
       "      <td>00c39458</td>\n",
       "      <td>0</td>\n",
       "      <td>Cars are a wonderful thing. They are perhaps o...</td>\n",
       "      <td>0</td>\n",
       "    </tr>\n",
       "  </tbody>\n",
       "</table>\n",
       "</div>"
      ],
      "text/plain": [
       "         id  prompt_id                                               text  \\\n",
       "0  0059830c          0  Cars. Cars have been around since they became ...   \n",
       "1  005db917          0  Transportation is a large necessity in most co...   \n",
       "2  008f63e3          0  \"America's love affair with it's vehicles seem...   \n",
       "3  00940276          0  How often do you ride in a car? Do you drive a...   \n",
       "4  00c39458          0  Cars are a wonderful thing. They are perhaps o...   \n",
       "\n",
       "   generated  \n",
       "0          0  \n",
       "1          0  \n",
       "2          0  \n",
       "3          0  \n",
       "4          0  "
      ]
     },
     "execution_count": 3,
     "metadata": {},
     "output_type": "execute_result"
    }
   ],
   "source": [
    "df_train.head()"
   ]
  },
  {
   "cell_type": "code",
   "execution_count": 4,
   "id": "7093ecc6",
   "metadata": {
    "execution": {
     "iopub.execute_input": "2023-12-07T18:42:56.758021Z",
     "iopub.status.busy": "2023-12-07T18:42:56.757265Z",
     "iopub.status.idle": "2023-12-07T18:42:56.767095Z",
     "shell.execute_reply": "2023-12-07T18:42:56.766302Z"
    },
    "papermill": {
     "duration": 0.023412,
     "end_time": "2023-12-07T18:42:56.770454",
     "exception": false,
     "start_time": "2023-12-07T18:42:56.747042",
     "status": "completed"
    },
    "tags": []
   },
   "outputs": [
    {
     "data": {
      "text/html": [
       "<div>\n",
       "<style scoped>\n",
       "    .dataframe tbody tr th:only-of-type {\n",
       "        vertical-align: middle;\n",
       "    }\n",
       "\n",
       "    .dataframe tbody tr th {\n",
       "        vertical-align: top;\n",
       "    }\n",
       "\n",
       "    .dataframe thead th {\n",
       "        text-align: right;\n",
       "    }\n",
       "</style>\n",
       "<table border=\"1\" class=\"dataframe\">\n",
       "  <thead>\n",
       "    <tr style=\"text-align: right;\">\n",
       "      <th></th>\n",
       "      <th>id</th>\n",
       "      <th>prompt_id</th>\n",
       "      <th>text</th>\n",
       "    </tr>\n",
       "  </thead>\n",
       "  <tbody>\n",
       "    <tr>\n",
       "      <th>0</th>\n",
       "      <td>0000aaaa</td>\n",
       "      <td>2</td>\n",
       "      <td>Aaa bbb ccc.</td>\n",
       "    </tr>\n",
       "    <tr>\n",
       "      <th>1</th>\n",
       "      <td>1111bbbb</td>\n",
       "      <td>3</td>\n",
       "      <td>Bbb ccc ddd.</td>\n",
       "    </tr>\n",
       "    <tr>\n",
       "      <th>2</th>\n",
       "      <td>2222cccc</td>\n",
       "      <td>4</td>\n",
       "      <td>CCC ddd eee.</td>\n",
       "    </tr>\n",
       "  </tbody>\n",
       "</table>\n",
       "</div>"
      ],
      "text/plain": [
       "         id  prompt_id          text\n",
       "0  0000aaaa          2  Aaa bbb ccc.\n",
       "1  1111bbbb          3  Bbb ccc ddd.\n",
       "2  2222cccc          4  CCC ddd eee."
      ]
     },
     "execution_count": 4,
     "metadata": {},
     "output_type": "execute_result"
    }
   ],
   "source": [
    "df_test.head()"
   ]
  },
  {
   "cell_type": "code",
   "execution_count": 5,
   "id": "1e2a7ec3",
   "metadata": {
    "execution": {
     "iopub.execute_input": "2023-12-07T18:42:56.802999Z",
     "iopub.status.busy": "2023-12-07T18:42:56.801127Z",
     "iopub.status.idle": "2023-12-07T18:42:56.818444Z",
     "shell.execute_reply": "2023-12-07T18:42:56.817235Z"
    },
    "papermill": {
     "duration": 0.036377,
     "end_time": "2023-12-07T18:42:56.821690",
     "exception": false,
     "start_time": "2023-12-07T18:42:56.785313",
     "status": "completed"
    },
    "tags": []
   },
   "outputs": [
    {
     "data": {
      "text/html": [
       "<div>\n",
       "<style scoped>\n",
       "    .dataframe tbody tr th:only-of-type {\n",
       "        vertical-align: middle;\n",
       "    }\n",
       "\n",
       "    .dataframe tbody tr th {\n",
       "        vertical-align: top;\n",
       "    }\n",
       "\n",
       "    .dataframe thead th {\n",
       "        text-align: right;\n",
       "    }\n",
       "</style>\n",
       "<table border=\"1\" class=\"dataframe\">\n",
       "  <thead>\n",
       "    <tr style=\"text-align: right;\">\n",
       "      <th></th>\n",
       "      <th>prompt_id</th>\n",
       "      <th>prompt_name</th>\n",
       "      <th>instructions</th>\n",
       "      <th>source_text</th>\n",
       "    </tr>\n",
       "  </thead>\n",
       "  <tbody>\n",
       "    <tr>\n",
       "      <th>0</th>\n",
       "      <td>0</td>\n",
       "      <td>Car-free cities</td>\n",
       "      <td>Write an explanatory essay to inform fellow ci...</td>\n",
       "      <td># In German Suburb, Life Goes On Without Cars ...</td>\n",
       "    </tr>\n",
       "    <tr>\n",
       "      <th>1</th>\n",
       "      <td>1</td>\n",
       "      <td>Does the electoral college work?</td>\n",
       "      <td>Write a letter to your state senator in which ...</td>\n",
       "      <td># What Is the Electoral College? by the Office...</td>\n",
       "    </tr>\n",
       "  </tbody>\n",
       "</table>\n",
       "</div>"
      ],
      "text/plain": [
       "   prompt_id                       prompt_name  \\\n",
       "0          0                   Car-free cities   \n",
       "1          1  Does the electoral college work?   \n",
       "\n",
       "                                        instructions  \\\n",
       "0  Write an explanatory essay to inform fellow ci...   \n",
       "1  Write a letter to your state senator in which ...   \n",
       "\n",
       "                                         source_text  \n",
       "0  # In German Suburb, Life Goes On Without Cars ...  \n",
       "1  # What Is the Electoral College? by the Office...  "
      ]
     },
     "execution_count": 5,
     "metadata": {},
     "output_type": "execute_result"
    }
   ],
   "source": [
    "df_train_prompts.head()"
   ]
  },
  {
   "cell_type": "markdown",
   "id": "158f0ca2",
   "metadata": {
    "papermill": {
     "duration": 0.011582,
     "end_time": "2023-12-07T18:42:56.847838",
     "exception": false,
     "start_time": "2023-12-07T18:42:56.836256",
     "status": "completed"
    },
    "tags": []
   },
   "source": [
    "Create a function to preprocess text for NLP:\n",
    "1. Tokenize text into words\n",
    "2. Remove non-alphabetic characters\n",
    "3. Remove stop words (filler words without sentiment or relevence to NLP)\n",
    "4. Stem words (reduce words to their basic meaning)\n",
    "5. Make all characters lowercase"
   ]
  },
  {
   "cell_type": "code",
   "execution_count": 6,
   "id": "ff6e7cad",
   "metadata": {
    "execution": {
     "iopub.execute_input": "2023-12-07T18:42:56.867699Z",
     "iopub.status.busy": "2023-12-07T18:42:56.866954Z",
     "iopub.status.idle": "2023-12-07T18:42:56.873161Z",
     "shell.execute_reply": "2023-12-07T18:42:56.872445Z"
    },
    "papermill": {
     "duration": 0.018793,
     "end_time": "2023-12-07T18:42:56.875473",
     "exception": false,
     "start_time": "2023-12-07T18:42:56.856680",
     "status": "completed"
    },
    "tags": []
   },
   "outputs": [],
   "source": [
    "def text_process(text):\n",
    "    \"\"\"\n",
    "    Processes text by tokenizing, removing stop words, stemming,\n",
    "    and returning a cleaned string.\n",
    "\n",
    "    Args:\n",
    "        text: The string to be processed.\n",
    "\n",
    "    Returns:\n",
    "        A string containing the cleaned and processed text.\n",
    "    \"\"\"\n",
    "    tokens = word_tokenize(text)\n",
    "    stop_words = set(stopwords.words(\"english\"))\n",
    "    ps = PorterStemmer()\n",
    "    filtered_tokens = [ps.stem(word.lower()) for word in tokens if word.isalnum() and word.lower() not in stop_words]\n",
    "    return \" \".join(filtered_tokens)"
   ]
  },
  {
   "cell_type": "markdown",
   "id": "f0701f8a",
   "metadata": {
    "papermill": {
     "duration": 0.008721,
     "end_time": "2023-12-07T18:42:56.893646",
     "exception": false,
     "start_time": "2023-12-07T18:42:56.884925",
     "status": "completed"
    },
    "tags": []
   },
   "source": [
    "### Apply NLP Preprocessing to Text"
   ]
  },
  {
   "cell_type": "markdown",
   "id": "aee4b4d4",
   "metadata": {
    "papermill": {
     "duration": 0.009015,
     "end_time": "2023-12-07T18:42:56.911437",
     "exception": false,
     "start_time": "2023-12-07T18:42:56.902422",
     "status": "completed"
    },
    "tags": []
   },
   "source": [
    "Apply preprocessing to df_trian text"
   ]
  },
  {
   "cell_type": "code",
   "execution_count": 7,
   "id": "f2894f24",
   "metadata": {
    "execution": {
     "iopub.execute_input": "2023-12-07T18:42:56.931031Z",
     "iopub.status.busy": "2023-12-07T18:42:56.930140Z",
     "iopub.status.idle": "2023-12-07T18:43:24.866474Z",
     "shell.execute_reply": "2023-12-07T18:43:24.865316Z"
    },
    "papermill": {
     "duration": 27.949433,
     "end_time": "2023-12-07T18:43:24.869508",
     "exception": false,
     "start_time": "2023-12-07T18:42:56.920075",
     "status": "completed"
    },
    "tags": []
   },
   "outputs": [],
   "source": [
    "df_train[\"text\"] = df_train[\"text\"].apply(text_process)"
   ]
  },
  {
   "cell_type": "markdown",
   "id": "a710e579",
   "metadata": {
    "papermill": {
     "duration": 0.008868,
     "end_time": "2023-12-07T18:43:24.888040",
     "exception": false,
     "start_time": "2023-12-07T18:43:24.879172",
     "status": "completed"
    },
    "tags": []
   },
   "source": [
    "Apply preprocessing to df_test text"
   ]
  },
  {
   "cell_type": "code",
   "execution_count": 8,
   "id": "4c406716",
   "metadata": {
    "execution": {
     "iopub.execute_input": "2023-12-07T18:43:24.908399Z",
     "iopub.status.busy": "2023-12-07T18:43:24.907622Z",
     "iopub.status.idle": "2023-12-07T18:43:24.916447Z",
     "shell.execute_reply": "2023-12-07T18:43:24.915249Z"
    },
    "papermill": {
     "duration": 0.021713,
     "end_time": "2023-12-07T18:43:24.918805",
     "exception": false,
     "start_time": "2023-12-07T18:43:24.897092",
     "status": "completed"
    },
    "tags": []
   },
   "outputs": [],
   "source": [
    "df_test['text'] = df_test[\"text\"].apply(text_process)"
   ]
  },
  {
   "cell_type": "markdown",
   "id": "f9f9a72e",
   "metadata": {
    "papermill": {
     "duration": 0.0091,
     "end_time": "2023-12-07T18:43:24.937651",
     "exception": false,
     "start_time": "2023-12-07T18:43:24.928551",
     "status": "completed"
    },
    "tags": []
   },
   "source": [
    "Remove id column"
   ]
  },
  {
   "cell_type": "code",
   "execution_count": 9,
   "id": "ce2064d3",
   "metadata": {
    "execution": {
     "iopub.execute_input": "2023-12-07T18:43:24.957768Z",
     "iopub.status.busy": "2023-12-07T18:43:24.957357Z",
     "iopub.status.idle": "2023-12-07T18:43:24.975763Z",
     "shell.execute_reply": "2023-12-07T18:43:24.974387Z"
    },
    "papermill": {
     "duration": 0.031379,
     "end_time": "2023-12-07T18:43:24.978217",
     "exception": false,
     "start_time": "2023-12-07T18:43:24.946838",
     "status": "completed"
    },
    "tags": []
   },
   "outputs": [
    {
     "data": {
      "text/html": [
       "<div>\n",
       "<style scoped>\n",
       "    .dataframe tbody tr th:only-of-type {\n",
       "        vertical-align: middle;\n",
       "    }\n",
       "\n",
       "    .dataframe tbody tr th {\n",
       "        vertical-align: top;\n",
       "    }\n",
       "\n",
       "    .dataframe thead th {\n",
       "        text-align: right;\n",
       "    }\n",
       "</style>\n",
       "<table border=\"1\" class=\"dataframe\">\n",
       "  <thead>\n",
       "    <tr style=\"text-align: right;\">\n",
       "      <th></th>\n",
       "      <th>prompt_id</th>\n",
       "      <th>text</th>\n",
       "      <th>generated</th>\n",
       "    </tr>\n",
       "  </thead>\n",
       "  <tbody>\n",
       "    <tr>\n",
       "      <th>0</th>\n",
       "      <td>0</td>\n",
       "      <td>car car around sinc becam famou 1900 henri for...</td>\n",
       "      <td>0</td>\n",
       "    </tr>\n",
       "    <tr>\n",
       "      <th>1</th>\n",
       "      <td>0</td>\n",
       "      <td>transport larg necess countri worldwid doubt c...</td>\n",
       "      <td>0</td>\n",
       "    </tr>\n",
       "    <tr>\n",
       "      <th>2</th>\n",
       "      <td>0</td>\n",
       "      <td>america love affair vehicl seem cool say elisa...</td>\n",
       "      <td>0</td>\n",
       "    </tr>\n",
       "    <tr>\n",
       "      <th>3</th>\n",
       "      <td>0</td>\n",
       "      <td>often ride car drive one motor vehicl work sto...</td>\n",
       "      <td>0</td>\n",
       "    </tr>\n",
       "    <tr>\n",
       "      <th>4</th>\n",
       "      <td>0</td>\n",
       "      <td>car wonder thing perhap one world greatest adv...</td>\n",
       "      <td>0</td>\n",
       "    </tr>\n",
       "  </tbody>\n",
       "</table>\n",
       "</div>"
      ],
      "text/plain": [
       "   prompt_id                                               text  generated\n",
       "0          0  car car around sinc becam famou 1900 henri for...          0\n",
       "1          0  transport larg necess countri worldwid doubt c...          0\n",
       "2          0  america love affair vehicl seem cool say elisa...          0\n",
       "3          0  often ride car drive one motor vehicl work sto...          0\n",
       "4          0  car wonder thing perhap one world greatest adv...          0"
      ]
     },
     "execution_count": 9,
     "metadata": {},
     "output_type": "execute_result"
    }
   ],
   "source": [
    "df_train.drop(columns=['id'], inplace=True)\n",
    "df_train.head()"
   ]
  },
  {
   "cell_type": "markdown",
   "id": "6720d1bd",
   "metadata": {
    "papermill": {
     "duration": 0.008771,
     "end_time": "2023-12-07T18:43:24.996371",
     "exception": false,
     "start_time": "2023-12-07T18:43:24.987600",
     "status": "completed"
    },
    "tags": []
   },
   "source": []
  },
  {
   "cell_type": "code",
   "execution_count": 10,
   "id": "7450aac3",
   "metadata": {
    "execution": {
     "iopub.execute_input": "2023-12-07T18:43:25.016029Z",
     "iopub.status.busy": "2023-12-07T18:43:25.015614Z",
     "iopub.status.idle": "2023-12-07T18:43:25.530523Z",
     "shell.execute_reply": "2023-12-07T18:43:25.529238Z"
    },
    "papermill": {
     "duration": 0.527856,
     "end_time": "2023-12-07T18:43:25.533196",
     "exception": false,
     "start_time": "2023-12-07T18:43:25.005340",
     "status": "completed"
    },
    "tags": []
   },
   "outputs": [],
   "source": [
    "tfidf_vectorizer = TfidfVectorizer(max_features=500 )\n",
    "\n",
    "X = tfidf_vectorizer.fit_transform(df_train[\"text\"]).toarray()\n",
    "y = df_train[\"generated\"]"
   ]
  },
  {
   "cell_type": "markdown",
   "id": "ccdfc0b7",
   "metadata": {
    "papermill": {
     "duration": 0.008853,
     "end_time": "2023-12-07T18:43:25.551695",
     "exception": false,
     "start_time": "2023-12-07T18:43:25.542842",
     "status": "completed"
    },
    "tags": []
   },
   "source": [
    "Create test, train split"
   ]
  },
  {
   "cell_type": "code",
   "execution_count": 11,
   "id": "8d7c20b6",
   "metadata": {
    "execution": {
     "iopub.execute_input": "2023-12-07T18:43:25.571574Z",
     "iopub.status.busy": "2023-12-07T18:43:25.571145Z",
     "iopub.status.idle": "2023-12-07T18:43:25.578835Z",
     "shell.execute_reply": "2023-12-07T18:43:25.577936Z"
    },
    "papermill": {
     "duration": 0.020404,
     "end_time": "2023-12-07T18:43:25.581195",
     "exception": false,
     "start_time": "2023-12-07T18:43:25.560791",
     "status": "completed"
    },
    "tags": []
   },
   "outputs": [],
   "source": [
    "X_train, X_test, y_train, y_test = train_test_split(X, y, test_size=0.2, random_state=42)"
   ]
  },
  {
   "cell_type": "code",
   "execution_count": 12,
   "id": "efac64f7",
   "metadata": {
    "execution": {
     "iopub.execute_input": "2023-12-07T18:43:25.601785Z",
     "iopub.status.busy": "2023-12-07T18:43:25.601097Z",
     "iopub.status.idle": "2023-12-07T18:43:25.782574Z",
     "shell.execute_reply": "2023-12-07T18:43:25.781357Z"
    },
    "papermill": {
     "duration": 0.19474,
     "end_time": "2023-12-07T18:43:25.785455",
     "exception": false,
     "start_time": "2023-12-07T18:43:25.590715",
     "status": "completed"
    },
    "tags": []
   },
   "outputs": [],
   "source": [
    "model = Sequential()\n",
    "model.add(Dense(100, activation=\"relu\", input_dim =500 ))\n",
    "model.add(Dense(50, activation=\"relu\"))\n",
    "model.add(Dense(1, activation=\"sigmoid\"))"
   ]
  },
  {
   "cell_type": "code",
   "execution_count": 13,
   "id": "44d1dd27",
   "metadata": {
    "execution": {
     "iopub.execute_input": "2023-12-07T18:43:25.806894Z",
     "iopub.status.busy": "2023-12-07T18:43:25.806510Z",
     "iopub.status.idle": "2023-12-07T18:43:25.826122Z",
     "shell.execute_reply": "2023-12-07T18:43:25.825038Z"
    },
    "papermill": {
     "duration": 0.03399,
     "end_time": "2023-12-07T18:43:25.828881",
     "exception": false,
     "start_time": "2023-12-07T18:43:25.794891",
     "status": "completed"
    },
    "tags": []
   },
   "outputs": [],
   "source": [
    "model.compile(loss='binary_crossentropy', optimizer='Adam', metrics=['accuracy'])"
   ]
  },
  {
   "cell_type": "code",
   "execution_count": 14,
   "id": "b050be6b",
   "metadata": {
    "execution": {
     "iopub.execute_input": "2023-12-07T18:43:25.849360Z",
     "iopub.status.busy": "2023-12-07T18:43:25.848964Z",
     "iopub.status.idle": "2023-12-07T18:43:28.355920Z",
     "shell.execute_reply": "2023-12-07T18:43:28.354781Z"
    },
    "papermill": {
     "duration": 2.520626,
     "end_time": "2023-12-07T18:43:28.358796",
     "exception": false,
     "start_time": "2023-12-07T18:43:25.838170",
     "status": "completed"
    },
    "tags": []
   },
   "outputs": [
    {
     "name": "stdout",
     "output_type": "stream",
     "text": [
      "Epoch 1/10\n",
      "28/28 [==============================] - 1s 12ms/step - loss: 0.2983 - accuracy: 0.9977 - val_loss: 0.0315 - val_accuracy: 1.0000\n",
      "Epoch 2/10\n",
      "28/28 [==============================] - 0s 4ms/step - loss: 0.0183 - accuracy: 0.9977 - val_loss: 0.0039 - val_accuracy: 1.0000\n",
      "Epoch 3/10\n",
      "28/28 [==============================] - 0s 4ms/step - loss: 0.0122 - accuracy: 0.9977 - val_loss: 0.0026 - val_accuracy: 1.0000\n",
      "Epoch 4/10\n",
      "28/28 [==============================] - 0s 5ms/step - loss: 0.0115 - accuracy: 0.9977 - val_loss: 0.0021 - val_accuracy: 1.0000\n",
      "Epoch 5/10\n",
      "28/28 [==============================] - 0s 4ms/step - loss: 0.0107 - accuracy: 0.9977 - val_loss: 0.0019 - val_accuracy: 1.0000\n",
      "Epoch 6/10\n",
      "28/28 [==============================] - 0s 4ms/step - loss: 0.0100 - accuracy: 0.9977 - val_loss: 0.0020 - val_accuracy: 1.0000\n",
      "Epoch 7/10\n",
      "28/28 [==============================] - 0s 4ms/step - loss: 0.0090 - accuracy: 0.9977 - val_loss: 0.0017 - val_accuracy: 1.0000\n",
      "Epoch 8/10\n",
      "28/28 [==============================] - 0s 4ms/step - loss: 0.0081 - accuracy: 0.9977 - val_loss: 0.0014 - val_accuracy: 1.0000\n",
      "Epoch 9/10\n",
      "28/28 [==============================] - 0s 4ms/step - loss: 0.0073 - accuracy: 0.9977 - val_loss: 0.0012 - val_accuracy: 1.0000\n",
      "Epoch 10/10\n",
      "28/28 [==============================] - 0s 4ms/step - loss: 0.0068 - accuracy: 0.9977 - val_loss: 0.0013 - val_accuracy: 1.0000\n"
     ]
    }
   ],
   "source": [
    "history = model.fit(X_train, y_train, epochs=10, batch_size=32, validation_split=0.2)"
   ]
  },
  {
   "cell_type": "code",
   "execution_count": 15,
   "id": "58de2cf7",
   "metadata": {
    "execution": {
     "iopub.execute_input": "2023-12-07T18:43:28.387658Z",
     "iopub.status.busy": "2023-12-07T18:43:28.386440Z",
     "iopub.status.idle": "2023-12-07T18:43:28.581027Z",
     "shell.execute_reply": "2023-12-07T18:43:28.579806Z"
    },
    "papermill": {
     "duration": 0.211579,
     "end_time": "2023-12-07T18:43:28.583587",
     "exception": false,
     "start_time": "2023-12-07T18:43:28.372008",
     "status": "completed"
    },
    "tags": []
   },
   "outputs": [
    {
     "name": "stdout",
     "output_type": "stream",
     "text": [
      "9/9 [==============================] - 0s 2ms/step\n"
     ]
    },
    {
     "data": {
      "text/plain": [
       "array([0])"
      ]
     },
     "execution_count": 15,
     "metadata": {},
     "output_type": "execute_result"
    }
   ],
   "source": [
    "y_pred = model.predict(X_test)\n",
    "y_pred_binary = (y_pred > 0.5).astype(int)\n",
    "y_pred_binary[0]"
   ]
  },
  {
   "cell_type": "code",
   "execution_count": 16,
   "id": "f79b70a8",
   "metadata": {
    "execution": {
     "iopub.execute_input": "2023-12-07T18:43:28.612444Z",
     "iopub.status.busy": "2023-12-07T18:43:28.612033Z",
     "iopub.status.idle": "2023-12-07T18:43:28.619448Z",
     "shell.execute_reply": "2023-12-07T18:43:28.618322Z"
    },
    "papermill": {
     "duration": 0.024662,
     "end_time": "2023-12-07T18:43:28.621880",
     "exception": false,
     "start_time": "2023-12-07T18:43:28.597218",
     "status": "completed"
    },
    "tags": []
   },
   "outputs": [
    {
     "name": "stdout",
     "output_type": "stream",
     "text": [
      "99.63768115942028\n"
     ]
    }
   ],
   "source": [
    "accuracy = accuracy_score(y_test, y_pred_binary)\n",
    "\n",
    "\n",
    "print(accuracy*100)"
   ]
  },
  {
   "cell_type": "code",
   "execution_count": 17,
   "id": "871a6622",
   "metadata": {
    "execution": {
     "iopub.execute_input": "2023-12-07T18:43:28.651203Z",
     "iopub.status.busy": "2023-12-07T18:43:28.650804Z",
     "iopub.status.idle": "2023-12-07T18:43:28.657919Z",
     "shell.execute_reply": "2023-12-07T18:43:28.656822Z"
    },
    "papermill": {
     "duration": 0.024587,
     "end_time": "2023-12-07T18:43:28.660402",
     "exception": false,
     "start_time": "2023-12-07T18:43:28.635815",
     "status": "completed"
    },
    "tags": []
   },
   "outputs": [],
   "source": [
    "X_tfidf_test = tfidf_vectorizer.transform(df_test['text']).toarray()\n",
    "X_combined_tensor_test = tf.convert_to_tensor(X_tfidf_test, dtype=tf.float32)"
   ]
  },
  {
   "cell_type": "code",
   "execution_count": 18,
   "id": "fcff0ba5",
   "metadata": {
    "execution": {
     "iopub.execute_input": "2023-12-07T18:43:28.690245Z",
     "iopub.status.busy": "2023-12-07T18:43:28.689843Z",
     "iopub.status.idle": "2023-12-07T18:43:28.768945Z",
     "shell.execute_reply": "2023-12-07T18:43:28.768023Z"
    },
    "papermill": {
     "duration": 0.097565,
     "end_time": "2023-12-07T18:43:28.771402",
     "exception": false,
     "start_time": "2023-12-07T18:43:28.673837",
     "status": "completed"
    },
    "tags": []
   },
   "outputs": [
    {
     "name": "stdout",
     "output_type": "stream",
     "text": [
      "1/1 [==============================] - 0s 21ms/step\n"
     ]
    },
    {
     "data": {
      "text/plain": [
       "array([[0.],\n",
       "       [0.],\n",
       "       [0.]])"
      ]
     },
     "execution_count": 18,
     "metadata": {},
     "output_type": "execute_result"
    }
   ],
   "source": [
    "test_pred = model.predict(X_combined_tensor_test)\n",
    "test_pred_binary = (test_pred > 0.5).astype(float)\n",
    "test_pred_binary"
   ]
  },
  {
   "cell_type": "code",
   "execution_count": 19,
   "id": "e5d00278",
   "metadata": {
    "execution": {
     "iopub.execute_input": "2023-12-07T18:43:28.800784Z",
     "iopub.status.busy": "2023-12-07T18:43:28.800377Z",
     "iopub.status.idle": "2023-12-07T18:43:28.818589Z",
     "shell.execute_reply": "2023-12-07T18:43:28.817470Z"
    },
    "papermill": {
     "duration": 0.03593,
     "end_time": "2023-12-07T18:43:28.821093",
     "exception": false,
     "start_time": "2023-12-07T18:43:28.785163",
     "status": "completed"
    },
    "tags": []
   },
   "outputs": [
    {
     "data": {
      "text/html": [
       "<div>\n",
       "<style scoped>\n",
       "    .dataframe tbody tr th:only-of-type {\n",
       "        vertical-align: middle;\n",
       "    }\n",
       "\n",
       "    .dataframe tbody tr th {\n",
       "        vertical-align: top;\n",
       "    }\n",
       "\n",
       "    .dataframe thead th {\n",
       "        text-align: right;\n",
       "    }\n",
       "</style>\n",
       "<table border=\"1\" class=\"dataframe\">\n",
       "  <thead>\n",
       "    <tr style=\"text-align: right;\">\n",
       "      <th></th>\n",
       "      <th>id</th>\n",
       "      <th>generated</th>\n",
       "    </tr>\n",
       "  </thead>\n",
       "  <tbody>\n",
       "    <tr>\n",
       "      <th>0</th>\n",
       "      <td>0000aaaa</td>\n",
       "      <td>0.0</td>\n",
       "    </tr>\n",
       "    <tr>\n",
       "      <th>1</th>\n",
       "      <td>1111bbbb</td>\n",
       "      <td>0.0</td>\n",
       "    </tr>\n",
       "    <tr>\n",
       "      <th>2</th>\n",
       "      <td>2222cccc</td>\n",
       "      <td>0.0</td>\n",
       "    </tr>\n",
       "  </tbody>\n",
       "</table>\n",
       "</div>"
      ],
      "text/plain": [
       "         id  generated\n",
       "0  0000aaaa        0.0\n",
       "1  1111bbbb        0.0\n",
       "2  2222cccc        0.0"
      ]
     },
     "execution_count": 19,
     "metadata": {},
     "output_type": "execute_result"
    }
   ],
   "source": [
    "submission_df = pd.DataFrame({'id': df_test['id'], 'generated': test_pred_binary.flatten()})\n",
    "submission_df.to_csv(\"submission.csv\", index=False, quoting=3)\n",
    "final=pd.read_csv('submission.csv')\n",
    "final.head()"
   ]
  }
 ],
 "metadata": {
  "kaggle": {
   "accelerator": "none",
   "dataSources": [
    {
     "databundleVersionId": 6888007,
     "sourceId": 61542,
     "sourceType": "competition"
    }
   ],
   "dockerImageVersionId": 30615,
   "isGpuEnabled": false,
   "isInternetEnabled": true,
   "language": "python",
   "sourceType": "notebook"
  },
  "kernelspec": {
   "display_name": "Python 3",
   "language": "python",
   "name": "python3"
  },
  "language_info": {
   "codemirror_mode": {
    "name": "ipython",
    "version": 3
   },
   "file_extension": ".py",
   "mimetype": "text/x-python",
   "name": "python",
   "nbconvert_exporter": "python",
   "pygments_lexer": "ipython3",
   "version": "3.10.12"
  },
  "papermill": {
   "default_parameters": {},
   "duration": 53.433714,
   "end_time": "2023-12-07T18:43:31.282351",
   "environment_variables": {},
   "exception": null,
   "input_path": "__notebook__.ipynb",
   "output_path": "__notebook__.ipynb",
   "parameters": {},
   "start_time": "2023-12-07T18:42:37.848637",
   "version": "2.4.0"
  }
 },
 "nbformat": 4,
 "nbformat_minor": 5
}
